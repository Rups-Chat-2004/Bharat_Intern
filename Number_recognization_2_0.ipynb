{
  "nbformat": 4,
  "nbformat_minor": 0,
  "metadata": {
    "colab": {
      "provenance": [],
      "authorship_tag": "ABX9TyOBm9QMZd/Qo2BxXrAi0Kjd",
      "include_colab_link": true
    },
    "kernelspec": {
      "name": "python3",
      "display_name": "Python 3"
    },
    "language_info": {
      "name": "python"
    }
  },
  "cells": [
    {
      "cell_type": "markdown",
      "metadata": {
        "id": "view-in-github",
        "colab_type": "text"
      },
      "source": [
        "<a href=\"https://colab.research.google.com/github/Rups-Chat-2004/Bharat_Intern/blob/main/Number_recognization_2_0.ipynb\" target=\"_parent\"><img src=\"https://colab.research.google.com/assets/colab-badge.svg\" alt=\"Open In Colab\"/></a>"
      ]
    },
    {
      "cell_type": "code",
      "execution_count": null,
      "metadata": {
        "id": "xpJSQu1HEGTG"
      },
      "outputs": [],
      "source": [
        "# Import necessary libraries\n",
        "import tensorflow as tf\n",
        "from tensorflow.keras.datasets import mnist\n",
        "from tensorflow.keras.models import Sequential\n",
        "from tensorflow.keras.layers import Dense, Flatten\n",
        "from tensorflow.keras.utils import to_categorical\n"
      ]
    },
    {
      "cell_type": "code",
      "source": [
        "# Load and preprocess the MNIST dataset\n",
        "(x_train, y_train), (x_test, y_test) = mnist.load_data()\n",
        "x_train = x_train / 255.0  # Normalize pixel values to be between 0 and 1\n",
        "x_test = x_test / 255.0\n",
        "y_train = to_categorical(y_train, 10)  # One-hot encode the labels\n",
        "y_test = to_categorical(y_test, 10)\n"
      ],
      "metadata": {
        "id": "KvTuSrHQERSA"
      },
      "execution_count": null,
      "outputs": []
    },
    {
      "cell_type": "code",
      "source": [
        "# Build the neural network model\n",
        "model = Sequential([\n",
        "    Flatten(input_shape=(28, 28)),  # Flatten the 28x28 input images into 1D array\n",
        "    Dense(128, activation='relu'),    # Fully connected layer with 128 units and ReLU activation\n",
        "    Dense(10, activation='softmax')   # Output layer with 10 units (for digits 0 to 9) and softmax activation\n",
        "])\n"
      ],
      "metadata": {
        "id": "Kbh-9JrXEY9r"
      },
      "execution_count": null,
      "outputs": []
    },
    {
      "cell_type": "code",
      "source": [
        "# Compile the model\n",
        "model.compile(optimizer='adam',\n",
        "              loss='categorical_crossentropy',\n",
        "              metrics=['accuracy'])\n"
      ],
      "metadata": {
        "id": "ZSUV2bmMEpAl"
      },
      "execution_count": null,
      "outputs": []
    },
    {
      "cell_type": "code",
      "source": [
        "# Train the model\n",
        "model.fit(x_train, y_train, epochs=10, batch_size=32, validation_split=0.2)\n"
      ],
      "metadata": {
        "colab": {
          "base_uri": "https://localhost:8080/"
        },
        "id": "SPDKLrzLEYvG",
        "outputId": "7a7e9d4e-1acc-4f6c-dbb1-43be35d60331"
      },
      "execution_count": null,
      "outputs": [
        {
          "output_type": "stream",
          "name": "stdout",
          "text": [
            "Epoch 1/10\n",
            "1500/1500 [==============================] - 9s 6ms/step - loss: 0.2822 - accuracy: 0.9210 - val_loss: 0.1563 - val_accuracy: 0.9554\n",
            "Epoch 2/10\n",
            "1500/1500 [==============================] - 7s 5ms/step - loss: 0.1265 - accuracy: 0.9633 - val_loss: 0.1147 - val_accuracy: 0.9666\n",
            "Epoch 3/10\n",
            "1500/1500 [==============================] - 9s 6ms/step - loss: 0.0857 - accuracy: 0.9739 - val_loss: 0.1153 - val_accuracy: 0.9645\n",
            "Epoch 4/10\n",
            "1500/1500 [==============================] - 8s 5ms/step - loss: 0.0626 - accuracy: 0.9812 - val_loss: 0.0914 - val_accuracy: 0.9739\n",
            "Epoch 5/10\n",
            "1500/1500 [==============================] - 7s 5ms/step - loss: 0.0484 - accuracy: 0.9852 - val_loss: 0.1025 - val_accuracy: 0.9697\n",
            "Epoch 6/10\n",
            "1500/1500 [==============================] - 8s 5ms/step - loss: 0.0373 - accuracy: 0.9891 - val_loss: 0.0814 - val_accuracy: 0.9755\n",
            "Epoch 7/10\n",
            "1500/1500 [==============================] - 7s 5ms/step - loss: 0.0306 - accuracy: 0.9910 - val_loss: 0.0860 - val_accuracy: 0.9753\n",
            "Epoch 8/10\n",
            "1500/1500 [==============================] - 9s 6ms/step - loss: 0.0239 - accuracy: 0.9929 - val_loss: 0.0956 - val_accuracy: 0.9732\n",
            "Epoch 9/10\n",
            "1500/1500 [==============================] - 8s 5ms/step - loss: 0.0196 - accuracy: 0.9939 - val_loss: 0.0950 - val_accuracy: 0.9758\n",
            "Epoch 10/10\n",
            "1500/1500 [==============================] - 7s 5ms/step - loss: 0.0146 - accuracy: 0.9959 - val_loss: 0.0919 - val_accuracy: 0.9769\n"
          ]
        },
        {
          "output_type": "execute_result",
          "data": {
            "text/plain": [
              "<keras.src.callbacks.History at 0x79308526df00>"
            ]
          },
          "metadata": {},
          "execution_count": 19
        }
      ]
    },
    {
      "cell_type": "code",
      "source": [
        "# Evaluate the model on test data\n",
        "test_loss, test_accuracy = model.evaluate(x_test, y_test)\n",
        "print(\"Test Accuracy:\", test_accuracy)\n"
      ],
      "metadata": {
        "colab": {
          "base_uri": "https://localhost:8080/"
        },
        "id": "luyJO_J5FFBI",
        "outputId": "070c7bb5-218c-4771-adc2-a75e903165bd"
      },
      "execution_count": null,
      "outputs": [
        {
          "output_type": "stream",
          "name": "stdout",
          "text": [
            "313/313 [==============================] - 1s 2ms/step - loss: 0.0804 - accuracy: 0.9787\n",
            "Test Accuracy: 0.9786999821662903\n"
          ]
        }
      ]
    },
    {
      "cell_type": "code",
      "source": [
        "# Example: Make predictions on a single handwritten digit from the test set\n",
        "import numpy as np\n",
        "import matplotlib.pyplot as plt\n",
        "\n"
      ],
      "metadata": {
        "id": "3wS3uYn7FJYn"
      },
      "execution_count": null,
      "outputs": []
    },
    {
      "cell_type": "code",
      "source": [
        "# Choose a random test image\n",
        "random_index = np.random.randint(0, len(x_test))\n",
        "test_image = x_test[random_index]\n"
      ],
      "metadata": {
        "id": "nNc7xiWFFNL0"
      },
      "execution_count": null,
      "outputs": []
    },
    {
      "cell_type": "code",
      "source": [
        "# Make a prediction using the trained model\n",
        "prediction = model.predict(np.expand_dims(test_image, axis=0))\n",
        "predicted_label = np.argmax(prediction)\n",
        "\n"
      ],
      "metadata": {
        "colab": {
          "base_uri": "https://localhost:8080/"
        },
        "id": "UM10fTSTFQOF",
        "outputId": "f44e6b2a-1e85-413a-cd80-c78147c25542"
      },
      "execution_count": null,
      "outputs": [
        {
          "output_type": "stream",
          "name": "stdout",
          "text": [
            "1/1 [==============================] - 0s 55ms/step\n"
          ]
        }
      ]
    },
    {
      "cell_type": "code",
      "source": [
        "# Display the test image and the predicted label\n",
        "plt.imshow(test_image, cmap='gray')\n",
        "plt.title(f\"Predicted Label: {predicted_label}\")\n",
        "plt.show()"
      ],
      "metadata": {
        "colab": {
          "base_uri": "https://localhost:8080/",
          "height": 452
        },
        "id": "ZGMbDCu5FUC7",
        "outputId": "91650b0d-6e4e-465b-b092-233a035c6a59"
      },
      "execution_count": null,
      "outputs": [
        {
          "output_type": "display_data",
          "data": {
            "text/plain": [
              "<Figure size 640x480 with 1 Axes>"
            ],
            "image/png": "[encoded data removed]"
          },
          "metadata": {}
        }
      ]
    }
  ]
}