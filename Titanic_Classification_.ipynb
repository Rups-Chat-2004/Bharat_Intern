{
  "nbformat": 4,
  "nbformat_minor": 0,
  "metadata": {
    "colab": {
      "provenance": [],
      "authorship_tag": "ABX9TyNyclrUFpVJshJkwe8kHv6h",
      "include_colab_link": true
    },
    "kernelspec": {
      "name": "python3",
      "display_name": "Python 3"
    },
    "language_info": {
      "name": "python"
    }
  },
  "cells": [
    {
      "cell_type": "markdown",
      "metadata": {
        "id": "view-in-github",
        "colab_type": "text"
      },
      "source": [
        "<a href=\"https://colab.research.google.com/github/Rups-Chat-2004/Bharat_Intern/blob/main/Titanic_Classification_.ipynb\" target=\"_parent\"><img src=\"https://colab.research.google.com/assets/colab-badge.svg\" alt=\"Open In Colab\"/></a>"
      ]
    },
    {
      "cell_type": "code",
      "source": [
        "class Person:\n",
        "    def __init__(self, age, gender, social_status):\n",
        "        self.age = age\n",
        "        self.gender = gender\n",
        "        self.social_status = int(social_status)\n",
        "\n",
        "    def is_saved(self):\n",
        "        return (self.age <= 25) and (self.gender == 'female') and (self.social_status >= 8)\n",
        "\n",
        "# Taking input from the user\n",
        "age = int(input(\"Enter age: \"))\n",
        "gender = input(\"Enter gender (male/female): \").lower()\n",
        "social_status = input(\"Enter social status (an integer value): \")\n",
        "\n",
        "# Creating a person object with user input data\n",
        "person = Person(age, gender, social_status)\n",
        "\n",
        "# Checking if the person will be saved\n",
        "if person.is_saved():\n",
        "    print(\"The person will be saved.\")\n",
        "else:\n",
        "    print(\"The person will not be saved.\")\n"
      ],
      "metadata": {
        "colab": {
          "base_uri": "https://localhost:8080/"
        },
        "id": "dfbuzw7lFPfu",
        "outputId": "b710a7da-fa64-4354-b6a4-b5121e8091d9"
      },
      "execution_count": null,
      "outputs": [
        {
          "output_type": "stream",
          "name": "stdout",
          "text": [
            "Enter age: 10\n",
            "Enter gender (male/female): female\n",
            "Enter social status (an integer value): 9\n",
            "The person will be saved.\n"
          ]
        }
      ]
    }
  ]
}